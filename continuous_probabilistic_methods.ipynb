{
 "cells": [
  {
   "cell_type": "markdown",
   "id": "2626b6d3",
   "metadata": {},
   "source": [
    "# Part 1"
   ]
  },
  {
   "cell_type": "code",
   "execution_count": 24,
   "id": "6b94e4df",
   "metadata": {},
   "outputs": [],
   "source": [
    "import pandas as pd\n",
    "import numpy as np\n",
    "import matplotlib.pyplot as plt"
   ]
  },
  {
   "cell_type": "code",
   "execution_count": 3,
   "id": "c69a685c",
   "metadata": {},
   "outputs": [],
   "source": [
    "def get_lower_and_upper_bounds(df, col, k=1.5):\n",
    "    '''\n",
    "    Takes in a df and a column names and return the lower fence and upper fence with a k of 1.5\n",
    "    '''\n",
    "    # first quartile\n",
    "    q1 = df[col].quantile(.25)\n",
    "    \n",
    "    # second quartile\n",
    "    q3 = df[col].quantile(.75)\n",
    "    \n",
    "    # calculate the iqr\n",
    "    iqr = (q3 - q1)\n",
    "    \n",
    "    # get the upper fence\n",
    "    upper_fence = q3 + (k * iqr)\n",
    "    \n",
    "    # get the lower fence\n",
    "    lower_fence = q1 - (k * iqr)\n",
    "    \n",
    "    # exit and return the upper and lower fence\n",
    "    return lower_fence, upper_fence\n",
    "    "
   ]
  },
  {
   "cell_type": "code",
   "execution_count": 5,
   "id": "663dbbed",
   "metadata": {},
   "outputs": [],
   "source": [
    "# get data\n",
    "df = pd.read_csv('https://gist.githubusercontent.com/ryanorsinger/19bc7eccd6279661bd13307026628ace/raw/e4b5d6787015a4782f96cad6d1d62a8bdbac54c7/lemonade.csv')"
   ]
  },
  {
   "cell_type": "code",
   "execution_count": 7,
   "id": "7ea9007d",
   "metadata": {},
   "outputs": [
    {
     "data": {
      "text/html": [
       "<div>\n",
       "<style scoped>\n",
       "    .dataframe tbody tr th:only-of-type {\n",
       "        vertical-align: middle;\n",
       "    }\n",
       "\n",
       "    .dataframe tbody tr th {\n",
       "        vertical-align: top;\n",
       "    }\n",
       "\n",
       "    .dataframe thead th {\n",
       "        text-align: right;\n",
       "    }\n",
       "</style>\n",
       "<table border=\"1\" class=\"dataframe\">\n",
       "  <thead>\n",
       "    <tr style=\"text-align: right;\">\n",
       "      <th></th>\n",
       "      <th>Date</th>\n",
       "      <th>Day</th>\n",
       "      <th>Temperature</th>\n",
       "      <th>Rainfall</th>\n",
       "      <th>Flyers</th>\n",
       "      <th>Price</th>\n",
       "      <th>Sales</th>\n",
       "    </tr>\n",
       "  </thead>\n",
       "  <tbody>\n",
       "    <tr>\n",
       "      <th>0</th>\n",
       "      <td>1/1/17</td>\n",
       "      <td>Sunday</td>\n",
       "      <td>27.0</td>\n",
       "      <td>2.00</td>\n",
       "      <td>15</td>\n",
       "      <td>0.5</td>\n",
       "      <td>10</td>\n",
       "    </tr>\n",
       "    <tr>\n",
       "      <th>1</th>\n",
       "      <td>1/2/17</td>\n",
       "      <td>Monday</td>\n",
       "      <td>28.9</td>\n",
       "      <td>1.33</td>\n",
       "      <td>15</td>\n",
       "      <td>0.5</td>\n",
       "      <td>13</td>\n",
       "    </tr>\n",
       "    <tr>\n",
       "      <th>2</th>\n",
       "      <td>1/3/17</td>\n",
       "      <td>Tuesday</td>\n",
       "      <td>34.5</td>\n",
       "      <td>1.33</td>\n",
       "      <td>27</td>\n",
       "      <td>0.5</td>\n",
       "      <td>15</td>\n",
       "    </tr>\n",
       "    <tr>\n",
       "      <th>3</th>\n",
       "      <td>1/4/17</td>\n",
       "      <td>Wednesday</td>\n",
       "      <td>44.1</td>\n",
       "      <td>1.05</td>\n",
       "      <td>28</td>\n",
       "      <td>0.5</td>\n",
       "      <td>17</td>\n",
       "    </tr>\n",
       "    <tr>\n",
       "      <th>4</th>\n",
       "      <td>1/5/17</td>\n",
       "      <td>Thursday</td>\n",
       "      <td>42.4</td>\n",
       "      <td>1.00</td>\n",
       "      <td>33</td>\n",
       "      <td>0.5</td>\n",
       "      <td>18</td>\n",
       "    </tr>\n",
       "  </tbody>\n",
       "</table>\n",
       "</div>"
      ],
      "text/plain": [
       "     Date        Day  Temperature  Rainfall  Flyers  Price  Sales\n",
       "0  1/1/17     Sunday         27.0      2.00      15    0.5     10\n",
       "1  1/2/17     Monday         28.9      1.33      15    0.5     13\n",
       "2  1/3/17    Tuesday         34.5      1.33      27    0.5     15\n",
       "3  1/4/17  Wednesday         44.1      1.05      28    0.5     17\n",
       "4  1/5/17   Thursday         42.4      1.00      33    0.5     18"
      ]
     },
     "execution_count": 7,
     "metadata": {},
     "output_type": "execute_result"
    }
   ],
   "source": [
    "# checking\n",
    "df.head()"
   ]
  },
  {
   "cell_type": "markdown",
   "id": "060892c0",
   "metadata": {},
   "source": [
    "#### Use the IQR Range Rule and the upper and lower bounds to identify the lower outliers of each column of lemonade.csv, using the multiplier of 1.5. Do these lower outliers make sense? Which outliers should be kept?"
   ]
  },
  {
   "cell_type": "code",
   "execution_count": 11,
   "id": "1b877473",
   "metadata": {},
   "outputs": [
    {
     "name": "stdout",
     "output_type": "stream",
     "text": [
      "Temperature (16.700000000000003, 104.7)\n",
      "Rainfall (0.26, 1.3)\n",
      "Flyers (4.0, 76.0)\n",
      "Price (0.5, 0.5)\n",
      "Sales (5.0, 45.0)\n"
     ]
    }
   ],
   "source": [
    "# lets begin\n",
    "for col in df.select_dtypes(include=[int, float]):\n",
    "    print(col, get_lower_and_upper_bounds(df, col, k=1.5))"
   ]
  },
  {
   "cell_type": "markdown",
   "id": "98d066fb",
   "metadata": {},
   "source": [
    "> * Temperature, and sales makes sense\n",
    "> * Prices makes sense but its not useful becasue the price wiull always be the same\n",
    "> * For flyers, it could make sense in a way, but mostly for data entry issues or to find anomalies\n",
    "> * Rainfall doesnt make sense becasue negative rainfall will never happen so it is not useful to have a lower fence"
   ]
  },
  {
   "cell_type": "code",
   "execution_count": 14,
   "id": "87b265bc",
   "metadata": {},
   "outputs": [
    {
     "data": {
      "text/plain": [
       "0.5    365\n",
       "Name: Price, dtype: int64"
      ]
     },
     "execution_count": 14,
     "metadata": {},
     "output_type": "execute_result"
    }
   ],
   "source": [
    "# checking price values\n",
    "df.Price.value_counts()"
   ]
  },
  {
   "cell_type": "markdown",
   "id": "ea3f2e6d",
   "metadata": {},
   "source": [
    "#### Use the IQR Range Rule and the upper and upper bounds to identify the upper outliers of each column of lemonade.csv, using the multiplier of 1.5. Do these upper outliers make sense? Which outliers should be kept?"
   ]
  },
  {
   "cell_type": "markdown",
   "id": "5435a02a",
   "metadata": {},
   "source": [
    ">* All should be kept exceopt price (unless the price changes)"
   ]
  },
  {
   "cell_type": "markdown",
   "id": "1a2854cd",
   "metadata": {},
   "source": [
    "#### Using the multiplier of 3, IQR Range Rule, and the lower bounds, identify the outliers below the lower bound in each colum of lemonade.csv. Do these lower outliers make sense? Which outliers should be kept?"
   ]
  },
  {
   "cell_type": "code",
   "execution_count": 16,
   "id": "b1304122",
   "metadata": {},
   "outputs": [
    {
     "name": "stdout",
     "output_type": "stream",
     "text": [
      "Temperature (-16.299999999999997, 137.7)\n",
      "Rainfall (-0.13, 1.69)\n",
      "Flyers (-23.0, 103.0)\n",
      "Price (0.5, 0.5)\n",
      "Sales (-10.0, 60.0)\n"
     ]
    }
   ],
   "source": [
    "for col in df.select_dtypes(include=[int, float]):\n",
    "    print(col, get_lower_and_upper_bounds(df, col, k=3))"
   ]
  },
  {
   "cell_type": "code",
   "execution_count": 21,
   "id": "d87fefcf",
   "metadata": {},
   "outputs": [
    {
     "name": "stdout",
     "output_type": "stream",
     "text": [
      "Temperature (-16.299999999999997, 137.7)\n",
      "Rainfall (-0.13, 1.69)\n",
      "Flyers (-23.0, 103.0)\n",
      "Price (0.5, 0.5)\n",
      "Sales (-10.0, 60.0)\n"
     ]
    }
   ],
   "source": [
    "for col in df.select_dtypes(exclude=object):\n",
    "    print(col, get_lower_and_upper_bounds(df, col, k=3))"
   ]
  },
  {
   "cell_type": "markdown",
   "id": "9e571981",
   "metadata": {},
   "source": [
    ">* Rainfall and flyers doesnt make sense really\n",
    ">* Sales could make sense if they made 10 dollars worth of lemondae and didnt sell any of it - its situational\n",
    ">* Temperature is ok"
   ]
  },
  {
   "cell_type": "markdown",
   "id": "4e518a1e",
   "metadata": {},
   "source": [
    "#### Using the multiplier of 3, IQR Range Rule, and the upper bounds, identify the outliers above the upper_bound in each colum of lemonade.csv. Do these upper outliers make sense? Which outliers should be kept?"
   ]
  },
  {
   "cell_type": "markdown",
   "id": "921ec596",
   "metadata": {},
   "source": [
    "> All the upper outliers make sense to meeeee\n",
    "> price once again is strange"
   ]
  },
  {
   "cell_type": "markdown",
   "id": "83c9385d",
   "metadata": {},
   "source": [
    "# Part 2"
   ]
  },
  {
   "cell_type": "markdown",
   "id": "5ce93059",
   "metadata": {},
   "source": [
    "#### Identify if any columns in lemonade.csv are normally distributed. For normally distributed columns:"
   ]
  },
  {
   "cell_type": "code",
   "execution_count": 28,
   "id": "873fe8c9",
   "metadata": {},
   "outputs": [
    {
     "data": {
      "image/png": "[encoded data removed]",
      "text/plain": [
       "<Figure size 640x480 with 1 Axes>"
      ]
     },
     "metadata": {},
     "output_type": "display_data"
    },
    {
     "data": {
      "image/png": "[encoded data removed]",
      "text/plain": [
       "<Figure size 640x480 with 1 Axes>"
      ]
     },
     "metadata": {},
     "output_type": "display_data"
    },
    {
     "data": {
      "image/png": "[encoded data removed]",
      "text/plain": [
       "<Figure size 640x480 with 1 Axes>"
      ]
     },
     "metadata": {},
     "output_type": "display_data"
    },
    {
     "data": {
      "image/png": "[encoded data removed]",
      "text/plain": [
       "<Figure size 640x480 with 1 Axes>"
      ]
     },
     "metadata": {},
     "output_type": "display_data"
    },
    {
     "data": {
      "image/png": "[encoded data removed]",
      "text/plain": [
       "<Figure size 640x480 with 1 Axes>"
      ]
     },
     "metadata": {},
     "output_type": "display_data"
    }
   ],
   "source": [
    "for col in df.select_dtypes(exclude=object):\n",
    "    df[col].plot.hist()\n",
    "    plt.title(f\"{col}\")\n",
    "    plt.show()"
   ]
  },
  {
   "cell_type": "markdown",
   "id": "6aa820a6",
   "metadata": {},
   "source": [
    ">* Normal: Temp, Rain - Rightskewed, Flyers"
   ]
  },
  {
   "cell_type": "markdown",
   "id": "17cb0a4e",
   "metadata": {},
   "source": [
    "#### Use a 2 sigma decision rule to isolate the outliers."
   ]
  },
  {
   "cell_type": "code",
   "execution_count": 29,
   "id": "48ce554b",
   "metadata": {},
   "outputs": [],
   "source": [
    "# getting norm cols\n",
    "norm = df[['Temperature', 'Rainfall', 'Flyers']]"
   ]
  },
  {
   "cell_type": "code",
   "execution_count": 32,
   "id": "0090d546",
   "metadata": {},
   "outputs": [
    {
     "name": "stdout",
     "output_type": "stream",
     "text": [
      "TEMPERATURE\n",
      "         Date       Day  Temperature  Rainfall  Flyers  Price  Sales\n",
      "41    2/11/17  Saturday        212.0      0.91      35    0.5     21\n",
      "166   6/16/17    Friday         99.3      0.47      77    0.5     41\n",
      "176   6/26/17    Monday        102.6      0.47      60    0.5     42\n",
      "181    7/1/17  Saturday        102.9      0.47      59    0.5    143\n",
      "190   7/10/17    Monday         98.0      0.49      66    0.5     40\n",
      "198   7/18/17   Tuesday         99.3      0.47      76    0.5     41\n",
      "202   7/22/17  Saturday         99.6      0.47      49    0.5     42\n",
      "207   7/27/17  Thursday         97.9      0.47      74    0.5     43\n",
      "338   12/5/17   Tuesday         22.0      1.82      11    0.5     10\n",
      "364  12/31/17    Sunday         15.1      2.50       9    0.5      7\n",
      "\n",
      "============\n",
      "\n",
      "RAINFALL\n",
      "         Date        Day  Temperature  Rainfall  Flyers  Price  Sales\n",
      "0      1/1/17     Sunday         27.0      2.00      15    0.5     10\n",
      "5      1/6/17     Friday         25.3      1.54      23    0.5     11\n",
      "6      1/7/17   Saturday         32.9      1.54      19    0.5     13\n",
      "10    1/11/17  Wednesday         32.6      1.54      23    0.5     12\n",
      "15    1/16/17     Monday         30.6      1.67      24    0.5     12\n",
      "16    1/17/17    Tuesday         32.2      1.43      26    0.5     14\n",
      "19    1/20/17     Friday         31.6      1.43      20    0.5     12\n",
      "23    1/24/17    Tuesday         28.6      1.54      20    0.5     12\n",
      "337   12/4/17     Monday         34.9      1.54      16    0.5     13\n",
      "338   12/5/17    Tuesday         22.0      1.82      11    0.5     10\n",
      "342   12/9/17   Saturday         31.2      1.43      19    0.5     14\n",
      "343  12/10/17     Sunday         31.3      1.82      15    0.5     11\n",
      "346  12/13/17  Wednesday         32.2      1.43      26    0.5     14\n",
      "347  12/14/17   Thursday         31.9      1.54      24    0.5     13\n",
      "351  12/18/17     Monday         30.9      1.43      27    0.5     13\n",
      "355  12/22/17     Friday         30.9      1.54      17    0.5     13\n",
      "359  12/26/17    Tuesday         28.9      1.43      23    0.5     13\n",
      "363  12/30/17   Saturday         30.9      1.43      22    0.5     13\n",
      "364  12/31/17     Sunday         15.1      2.50       9    0.5      7\n",
      "\n",
      "============\n",
      "\n",
      "FLYERS\n",
      "         Date        Day  Temperature  Rainfall  Flyers  Price  Sales\n",
      "166   6/16/17     Friday         99.3      0.47      77    0.5     41\n",
      "170   6/20/17    Tuesday         85.1      0.54      70    0.5     37\n",
      "171   6/21/17  Wednesday         94.3      0.47      76    0.5     41\n",
      "182    7/2/17     Sunday         93.4      0.51      68    0.5    158\n",
      "183    7/3/17     Monday         81.5      0.54      68    0.5    235\n",
      "194   7/14/17     Friday         92.0      0.50      80    0.5     40\n",
      "198   7/18/17    Tuesday         99.3      0.47      76    0.5     41\n",
      "203   7/23/17     Sunday         89.1      0.51      72    0.5     37\n",
      "204   7/24/17     Monday         83.5      0.57      69    0.5     35\n",
      "207   7/27/17   Thursday         97.9      0.47      74    0.5     43\n",
      "324  11/21/17    Tuesday         47.0      0.95     -38    0.5     20\n",
      "338   12/5/17    Tuesday         22.0      1.82      11    0.5     10\n",
      "364  12/31/17     Sunday         15.1      2.50       9    0.5      7\n",
      "\n",
      "============\n",
      "\n"
     ]
    }
   ],
   "source": [
    "# geting z scores and norm cols\n",
    "for col in norm:\n",
    "    z = (df[col] - df[col].mean())/df[col].std()\n",
    "    print(f'{col.upper()}')\n",
    "    print(df[(z > 2)|(z < -2)])\n",
    "    print('\\n============\\n')"
   ]
  },
  {
   "cell_type": "markdown",
   "id": "004ad369",
   "metadata": {},
   "source": [
    "#### Do these make sense?\n",
    "Should certain outliers be kept or removed?\n",
    "> * Temp: remove the 212\n",
    "> * Rainfall: good\n",
    "> * Flyers: remove the -38"
   ]
  },
  {
   "cell_type": "code",
   "execution_count": 33,
   "id": "e81db52b",
   "metadata": {},
   "outputs": [
    {
     "name": "stdout",
     "output_type": "stream",
     "text": [
      "TEMPERATURE\n",
      "       Date       Day  Temperature  Rainfall  Flyers  Price  Sales\n",
      "41  2/11/17  Saturday        212.0      0.91      35    0.5     21\n",
      "\n",
      "============\n",
      "\n",
      "RAINFALL\n",
      "         Date      Day  Temperature  Rainfall  Flyers  Price  Sales\n",
      "0      1/1/17   Sunday         27.0      2.00      15    0.5     10\n",
      "15    1/16/17   Monday         30.6      1.67      24    0.5     12\n",
      "338   12/5/17  Tuesday         22.0      1.82      11    0.5     10\n",
      "343  12/10/17   Sunday         31.3      1.82      15    0.5     11\n",
      "364  12/31/17   Sunday         15.1      2.50       9    0.5      7\n",
      "\n",
      "============\n",
      "\n",
      "FLYERS\n",
      "         Date      Day  Temperature  Rainfall  Flyers  Price  Sales\n",
      "324  11/21/17  Tuesday         47.0      0.95     -38    0.5     20\n",
      "\n",
      "============\n",
      "\n"
     ]
    }
   ],
   "source": [
    "# geting z scores and norm cols\n",
    "for col in norm:\n",
    "    z = (df[col] - df[col].mean())/df[col].std()\n",
    "    print(f'{col.upper()}')\n",
    "    print(df[(z > 3)|(z < -3)])\n",
    "    print('\\n============\\n')"
   ]
  }
 ],
 "metadata": {
  "kernelspec": {
   "display_name": "Python 3 (ipykernel)",
   "language": "python",
   "name": "python3"
  },
  "language_info": {
   "codemirror_mode": {
    "name": "ipython",
    "version": 3
   },
   "file_extension": ".py",
   "mimetype": "text/x-python",
   "name": "python",
   "nbconvert_exporter": "python",
   "pygments_lexer": "ipython3",
   "version": "3.9.13"
  }
 },
 "nbformat": 4,
 "nbformat_minor": 5
}
